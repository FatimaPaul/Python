{
 "cells": [
  {
   "cell_type": "code",
   "execution_count": 4,
   "metadata": {},
   "outputs": [
    {
     "name": "stdout",
     "output_type": "stream",
     "text": [
      "Twinkle, twinkle, little star\n",
      "      How I woder what you are!\n",
      "            Up above the world so high, \n",
      "            Like a diamond in the sky.\n",
      "Twinkle, twinkle, little star\n",
      "      How I wonder what you are\n"
     ]
    }
   ],
   "source": [
    "print(\"Twinkle, twinkle, little star\")\n",
    "print(\"      How I woder what you are!\")\n",
    "print(\"            Up above the world so high, \")\n",
    "print(\"            Like a diamond in the sky.\")\n",
    "print(\"Twinkle, twinkle, little star\")\n",
    "print(\"      How I wonder what you are\")"
   ]
  },
  {
   "cell_type": "code",
   "execution_count": 7,
   "metadata": {},
   "outputs": [
    {
     "name": "stdout",
     "output_type": "stream",
     "text": [
      "Python 3.7\n"
     ]
    }
   ],
   "source": [
    "print(\"Python 3.7\")"
   ]
  },
  {
   "cell_type": "code",
   "execution_count": 8,
   "metadata": {},
   "outputs": [
    {
     "name": "stdout",
     "output_type": "stream",
     "text": [
      "Date: 11/3/19\n",
      "Time: 2:52AM\n"
     ]
    }
   ],
   "source": [
    "print(\"Date: 11/3/19\")\n",
    "print(\"Time: 2:52AM\")"
   ]
  },
  {
   "cell_type": "code",
   "execution_count": 18,
   "metadata": {},
   "outputs": [
    {
     "name": "stdout",
     "output_type": "stream",
     "text": [
      "Area of the circle is \n",
      "28.278\n"
     ]
    }
   ],
   "source": [
    "r=3\n",
    "pi=3.142\n",
    "c=pi*r*r\n",
    "print(\"Area of the circle is \")\n",
    "print(c)"
   ]
  },
  {
   "cell_type": "code",
   "execution_count": 21,
   "metadata": {},
   "outputs": [
    {
     "name": "stdout",
     "output_type": "stream",
     "text": [
      "Naveed Fatima\n"
     ]
    }
   ],
   "source": [
    "first_name= \"Fatima\"\n",
    "last_name = \"Naveed\"\n",
    "print(last_name +\" \"+first_name)"
   ]
  },
  {
   "cell_type": "code",
   "execution_count": 22,
   "metadata": {},
   "outputs": [
    {
     "name": "stdout",
     "output_type": "stream",
     "text": [
      "Enter the first value 56\n",
      "Enter the second value 78\n",
      "ADDITION is \n",
      "134\n"
     ]
    }
   ],
   "source": [
    "a=int(input(\"Enter the first value \"))\n",
    "b=int(input(\"Enter the second value \"))\n",
    "c=a+b\n",
    "print(\"ADDITION is \")\n",
    "print(c)"
   ]
  },
  {
   "cell_type": "code",
   "execution_count": null,
   "metadata": {},
   "outputs": [],
   "source": []
  },
  {
   "cell_type": "code",
   "execution_count": null,
   "metadata": {},
   "outputs": [],
   "source": []
  }
 ],
 "metadata": {
  "kernelspec": {
   "display_name": "Python 3",
   "language": "python",
   "name": "python3"
  },
  "language_info": {
   "codemirror_mode": {
    "name": "ipython",
    "version": 3
   },
   "file_extension": ".py",
   "mimetype": "text/x-python",
   "name": "python",
   "nbconvert_exporter": "python",
   "pygments_lexer": "ipython3",
   "version": "3.7.4"
  }
 },
 "nbformat": 4,
 "nbformat_minor": 2
}
