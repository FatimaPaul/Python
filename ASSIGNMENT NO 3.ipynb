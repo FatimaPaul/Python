{
 "cells": [
  {
   "cell_type": "code",
   "execution_count": null,
   "metadata": {},
   "outputs": [],
   "source": [
    "print(\"select operation \")\n",
    "print(\"1.add\")\n",
    "print(\"2.subtract\")\n",
    "print(\"3.multiply\")\n",
    "print(\"4.divide\")\n",
    "choice=input(\"enter choice\")\n",
    "num1=float(input(\"enter num1\"))\n",
    "num2=float(input(\"enter  num2\"))\n",
    "if choice=='1':\n",
    "    print(num1,\"+\",num2,\"=\",(num1+num2))\n",
    "elif choice=='2':\n",
    "    print(num1,\"-\",num2,\"=\",(num1-num2))\n",
    "elif choice=='3':\n",
    "    print(num1,\"*\",num2,\"=\",(num1*num2))\n",
    "elif choice=='4':\n",
    "    print(num1,\"/\",num2,\"=\",(num1))\n",
    "else:\n",
    "    print(\"invalid input\")"
   ]
  },
  {
   "cell_type": "code",
   "execution_count": null,
   "metadata": {},
   "outputs": [],
   "source": [
    "d={0:10,1:20}\n",
    "print(d)\n",
    "d.update({2:30})\n",
    "print(d)"
   ]
  },
  {
   "cell_type": "code",
   "execution_count": null,
   "metadata": {},
   "outputs": [],
   "source": [
    "mydict={'a':100,'b':200,'c':300}\n",
    "sum=0\n",
    "for i in mydict:\n",
    "    sum=sum+mydict[i]\n",
    "print(\"sum : \",sum)    "
   ]
  },
  {
   "cell_type": "code",
   "execution_count": null,
   "metadata": {},
   "outputs": [],
   "source": [
    "lst=[3,6,9,12,3,30,15,9,45,36,12,12]\n",
    "dupitems=[]\n",
    "uniqitems={}\n",
    "for x in lst:\n",
    "    if x not in uniqitems:\n",
    "        uniqitems[x]=1\n",
    "    else:\n",
    "        if uniqitems[x]==1:\n",
    "            dupitems.append(x)\n",
    "            uniqitems[x]+=1\n",
    "print(dupitems)            "
   ]
  },
  {
   "cell_type": "code",
   "execution_count": null,
   "metadata": {},
   "outputs": [],
   "source": [
    "d={1:10,2:20,3:30,4:40,5:50,6:60}\n",
    "def is_key_present(x):\n",
    "    if x in d:\n",
    "        print(\"key is present in the dictionary \")\n",
    "    else:\n",
    "        print(\"key is not present in the dictionary \")\n",
    "is_key_present(5)\n",
    "is_key_present(9)"
   ]
  },
  {
   "cell_type": "code",
   "execution_count": null,
   "metadata": {},
   "outputs": [],
   "source": [
    "list=[10,\"ahmed\",20,30,\"haider\",40]\n",
    "flag=0\n",
    "for i in range(len(list)):\n",
    "    if(str(list[i]).isdigit()):\n",
    "        flag=1\n",
    "    if (flag==1):\n",
    "        print(\"there is numeric value in the list \")\n",
    "    else:\n",
    "        print(\"there is no numeric value in the list\")"
   ]
  }
 ],
 "metadata": {
  "kernelspec": {
   "display_name": "Python 3",
   "language": "python",
   "name": "python3"
  },
  "language_info": {
   "codemirror_mode": {
    "name": "ipython",
    "version": 3
   },
   "file_extension": ".py",
   "mimetype": "text/x-python",
   "name": "python",
   "nbconvert_exporter": "python",
   "pygments_lexer": "ipython3",
   "version": "3.7.4"
  }
 },
 "nbformat": 4,
 "nbformat_minor": 2
}
