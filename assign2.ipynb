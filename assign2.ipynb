{
 "cells": [
  {
   "cell_type": "code",
   "execution_count": 5,
   "metadata": {},
   "outputs": [
    {
     "name": "stdout",
     "output_type": "stream",
     "text": [
      "enter marks1 45\n",
      "enter marsk2 65\n",
      "enter marks3 75\n",
      "enter marks4 85\n",
      "enter marks5 95\n",
      "A+\n"
     ]
    }
   ],
   "source": [
    "marks1=int(input(\"enter marks1 \"))\n",
    "marks2=int(input(\"enter marsk2 \"))\n",
    "marks3=int(input(\"enter marks3 \"))\n",
    "marks4=int(input(\"enter marks4 \"))\n",
    "marks5=int(input(\"enter marks5 \"))\n",
    "per=(marks1+marks2+marks3+marks4+marks5)//500*100\n",
    "if(per<=100 and per<=80):\n",
    "    print(\"A+\")\n",
    "elif(per<80 and per>=70):\n",
    "    print(\"A\")\n",
    "elif(per<70 and per>=60):\n",
    "    print(\"B\")\n",
    "elif(per<60 and per>=50):\n",
    "    print(\"C\")\n",
    "elif(per<50 and per>=40):\n",
    "    print(\"D\")\n",
    "elif(per<40 and per>=0):\n",
    "    print(\"FAIL!\")\n",
    "    "
   ]
  },
  {
   "cell_type": "code",
   "execution_count": 8,
   "metadata": {},
   "outputs": [
    {
     "name": "stdout",
     "output_type": "stream",
     "text": [
      "enter the number 7\n",
      "the number is odd\n"
     ]
    }
   ],
   "source": [
    "num=int(input(\"enter the number \"))\n",
    "if(num%2==0):\n",
    "    print(\"the number is even\")\n",
    "else:\n",
    "    print(\"the number is odd\")"
   ]
  },
  {
   "cell_type": "code",
   "execution_count": 10,
   "metadata": {},
   "outputs": [
    {
     "name": "stdout",
     "output_type": "stream",
     "text": [
      "6\n"
     ]
    }
   ],
   "source": [
    "arr1=[1,9,8,6,0,5]\n",
    "print(len(arr1))"
   ]
  },
  {
   "cell_type": "code",
   "execution_count": 25,
   "metadata": {},
   "outputs": [
    {
     "data": {
      "text/plain": [
       "67"
      ]
     },
     "execution_count": 25,
     "metadata": {},
     "output_type": "execute_result"
    }
   ],
   "source": [
    "arr=[1,67,45,3]\n",
    "max(arr)\n"
   ]
  },
  {
   "cell_type": "code",
   "execution_count": 33,
   "metadata": {},
   "outputs": [
    {
     "name": "stdout",
     "output_type": "stream",
     "text": [
      "153\n"
     ]
    }
   ],
   "source": [
    "a=[2,78,5,4,3.88,0,45,7.4,8]\n",
    "b=int( sum(a))\n",
    "print(b)"
   ]
  },
  {
   "cell_type": "code",
   "execution_count": 1,
   "metadata": {},
   "outputs": [
    {
     "name": "stdout",
     "output_type": "stream",
     "text": [
      "1\n",
      "5\n",
      "4\n",
      "0\n"
     ]
    }
   ],
   "source": [
    "a=[1,5,7,9,23,67,4,9,0]\n",
    "for i in a:\n",
    "    if i<=5:\n",
    "        print(i)\n"
   ]
  },
  {
   "cell_type": "code",
   "execution_count": null,
   "metadata": {},
   "outputs": [],
   "source": [
    "t"
   ]
  }
 ],
 "metadata": {
  "kernelspec": {
   "display_name": "Python 3",
   "language": "python",
   "name": "python3"
  },
  "language_info": {
   "codemirror_mode": {
    "name": "ipython",
    "version": 3
   },
   "file_extension": ".py",
   "mimetype": "text/x-python",
   "name": "python",
   "nbconvert_exporter": "python",
   "pygments_lexer": "ipython3",
   "version": "3.7.4"
  }
 },
 "nbformat": 4,
 "nbformat_minor": 2
}
